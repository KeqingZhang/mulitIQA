{
 "cells": [
  {
   "cell_type": "markdown",
   "metadata": {},
   "source": [
    "# CLIP\n",
    "\n",
    "在程序中调用CLIP预训练模型\n",
    "\n",
    "```bash\n",
    "cd ./experiment\n",
    "```\n",
    "\n",
    "```python\n",
    "import torch\n",
    "import clip\n",
    "\n",
    "device = \"cuda\" if torch.cuda.is_available() else \"cpu\"\n",
    "\n",
    "Backbone_name = [\"RN50\", \"RN101\", \"RN50x4\", \"RN50x16\",\n",
    "                 \"RN50x64\", \"ViT-B/32\", \"ViT-B/16\", \n",
    "                 \"ViT-L/14\", \"ViT-L/14@336px\"]\n",
    "\n",
    "model, preprocess = clip.load(\"Backbone name\", device=device)\n",
    "\n",
    "for item in data:\n",
    "    image, label = item\n",
    "\n",
    "    image_features = model.encode_img(image)\n",
    "    text_features = model.encode_text(text)\n",
    "\n",
    "    logit_per_image, logit_per_text = model(image, text)\n",
    "    probs = logits_per_image.softmax(dim=-1).cpu().numpy()\n",
    "\n",
    "```"
   ]
  }
 ],
 "metadata": {
  "language_info": {
   "name": "python"
  }
 },
 "nbformat": 4,
 "nbformat_minor": 2
}
